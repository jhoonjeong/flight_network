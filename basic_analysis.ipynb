{
 "cells": [
  {
   "cell_type": "markdown",
   "metadata": {},
   "source": [
    "# Historical Flight Network Analysis"
   ]
  },
  {
   "cell_type": "markdown",
   "metadata": {},
   "source": [
    "Data obtained from https://openflights.org/data.html"
   ]
  },
  {
   "cell_type": "code",
   "execution_count": 1,
   "metadata": {},
   "outputs": [],
   "source": [
    "import math\n",
    "import pandas as pd\n",
    "import numpy as np\n",
    "\n",
    "import matplotlib.pyplot as plt\n",
    "# from matplotlib import collections as mc\n",
    "#from mpl_toolkits.axes_grid1 import make_axes_locatable\n",
    "%matplotlib inline\n",
    "\n",
    "from bokeh.io import show, output_notebook\n",
    "from bokeh.plotting import figure\n",
    "from bokeh.models import GraphRenderer, StaticLayoutProvider\n",
    "from bokeh.models import WMTSTileSource\n",
    "from bokeh.models.glyphs import MultiLine"
   ]
  },
  {
   "cell_type": "code",
   "execution_count": 2,
   "metadata": {},
   "outputs": [
    {
     "data": {
      "text/html": [
       "\n",
       "    <div class=\"bk-root\">\n",
       "        <a href=\"https://bokeh.pydata.org\" target=\"_blank\" class=\"bk-logo bk-logo-small bk-logo-notebook\"></a>\n",
       "        <span id=\"1001\">Loading BokehJS ...</span>\n",
       "    </div>"
      ]
     },
     "metadata": {},
     "output_type": "display_data"
    },
    {
     "data": {
      "application/javascript": [
       "\n",
       "(function(root) {\n",
       "  function now() {\n",
       "    return new Date();\n",
       "  }\n",
       "\n",
       "  var force = true;\n",
       "\n",
       "  if (typeof (root._bokeh_onload_callbacks) === \"undefined\" || force === true) {\n",
       "    root._bokeh_onload_callbacks = [];\n",
       "    root._bokeh_is_loading = undefined;\n",
       "  }\n",
       "\n",
       "  var JS_MIME_TYPE = 'application/javascript';\n",
       "  var HTML_MIME_TYPE = 'text/html';\n",
       "  var EXEC_MIME_TYPE = 'application/vnd.bokehjs_exec.v0+json';\n",
       "  var CLASS_NAME = 'output_bokeh rendered_html';\n",
       "\n",
       "  /**\n",
       "   * Render data to the DOM node\n",
       "   */\n",
       "  function render(props, node) {\n",
       "    var script = document.createElement(\"script\");\n",
       "    node.appendChild(script);\n",
       "  }\n",
       "\n",
       "  /**\n",
       "   * Handle when an output is cleared or removed\n",
       "   */\n",
       "  function handleClearOutput(event, handle) {\n",
       "    var cell = handle.cell;\n",
       "\n",
       "    var id = cell.output_area._bokeh_element_id;\n",
       "    var server_id = cell.output_area._bokeh_server_id;\n",
       "    // Clean up Bokeh references\n",
       "    if (id != null && id in Bokeh.index) {\n",
       "      Bokeh.index[id].model.document.clear();\n",
       "      delete Bokeh.index[id];\n",
       "    }\n",
       "\n",
       "    if (server_id !== undefined) {\n",
       "      // Clean up Bokeh references\n",
       "      var cmd = \"from bokeh.io.state import curstate; print(curstate().uuid_to_server['\" + server_id + \"'].get_sessions()[0].document.roots[0]._id)\";\n",
       "      cell.notebook.kernel.execute(cmd, {\n",
       "        iopub: {\n",
       "          output: function(msg) {\n",
       "            var id = msg.content.text.trim();\n",
       "            if (id in Bokeh.index) {\n",
       "              Bokeh.index[id].model.document.clear();\n",
       "              delete Bokeh.index[id];\n",
       "            }\n",
       "          }\n",
       "        }\n",
       "      });\n",
       "      // Destroy server and session\n",
       "      var cmd = \"import bokeh.io.notebook as ion; ion.destroy_server('\" + server_id + \"')\";\n",
       "      cell.notebook.kernel.execute(cmd);\n",
       "    }\n",
       "  }\n",
       "\n",
       "  /**\n",
       "   * Handle when a new output is added\n",
       "   */\n",
       "  function handleAddOutput(event, handle) {\n",
       "    var output_area = handle.output_area;\n",
       "    var output = handle.output;\n",
       "\n",
       "    // limit handleAddOutput to display_data with EXEC_MIME_TYPE content only\n",
       "    if ((output.output_type != \"display_data\") || (!output.data.hasOwnProperty(EXEC_MIME_TYPE))) {\n",
       "      return\n",
       "    }\n",
       "\n",
       "    var toinsert = output_area.element.find(\".\" + CLASS_NAME.split(' ')[0]);\n",
       "\n",
       "    if (output.metadata[EXEC_MIME_TYPE][\"id\"] !== undefined) {\n",
       "      toinsert[toinsert.length - 1].firstChild.textContent = output.data[JS_MIME_TYPE];\n",
       "      // store reference to embed id on output_area\n",
       "      output_area._bokeh_element_id = output.metadata[EXEC_MIME_TYPE][\"id\"];\n",
       "    }\n",
       "    if (output.metadata[EXEC_MIME_TYPE][\"server_id\"] !== undefined) {\n",
       "      var bk_div = document.createElement(\"div\");\n",
       "      bk_div.innerHTML = output.data[HTML_MIME_TYPE];\n",
       "      var script_attrs = bk_div.children[0].attributes;\n",
       "      for (var i = 0; i < script_attrs.length; i++) {\n",
       "        toinsert[toinsert.length - 1].firstChild.setAttribute(script_attrs[i].name, script_attrs[i].value);\n",
       "      }\n",
       "      // store reference to server id on output_area\n",
       "      output_area._bokeh_server_id = output.metadata[EXEC_MIME_TYPE][\"server_id\"];\n",
       "    }\n",
       "  }\n",
       "\n",
       "  function register_renderer(events, OutputArea) {\n",
       "\n",
       "    function append_mime(data, metadata, element) {\n",
       "      // create a DOM node to render to\n",
       "      var toinsert = this.create_output_subarea(\n",
       "        metadata,\n",
       "        CLASS_NAME,\n",
       "        EXEC_MIME_TYPE\n",
       "      );\n",
       "      this.keyboard_manager.register_events(toinsert);\n",
       "      // Render to node\n",
       "      var props = {data: data, metadata: metadata[EXEC_MIME_TYPE]};\n",
       "      render(props, toinsert[toinsert.length - 1]);\n",
       "      element.append(toinsert);\n",
       "      return toinsert\n",
       "    }\n",
       "\n",
       "    /* Handle when an output is cleared or removed */\n",
       "    events.on('clear_output.CodeCell', handleClearOutput);\n",
       "    events.on('delete.Cell', handleClearOutput);\n",
       "\n",
       "    /* Handle when a new output is added */\n",
       "    events.on('output_added.OutputArea', handleAddOutput);\n",
       "\n",
       "    /**\n",
       "     * Register the mime type and append_mime function with output_area\n",
       "     */\n",
       "    OutputArea.prototype.register_mime_type(EXEC_MIME_TYPE, append_mime, {\n",
       "      /* Is output safe? */\n",
       "      safe: true,\n",
       "      /* Index of renderer in `output_area.display_order` */\n",
       "      index: 0\n",
       "    });\n",
       "  }\n",
       "\n",
       "  // register the mime type if in Jupyter Notebook environment and previously unregistered\n",
       "  if (root.Jupyter !== undefined) {\n",
       "    var events = require('base/js/events');\n",
       "    var OutputArea = require('notebook/js/outputarea').OutputArea;\n",
       "\n",
       "    if (OutputArea.prototype.mime_types().indexOf(EXEC_MIME_TYPE) == -1) {\n",
       "      register_renderer(events, OutputArea);\n",
       "    }\n",
       "  }\n",
       "\n",
       "  \n",
       "  if (typeof (root._bokeh_timeout) === \"undefined\" || force === true) {\n",
       "    root._bokeh_timeout = Date.now() + 5000;\n",
       "    root._bokeh_failed_load = false;\n",
       "  }\n",
       "\n",
       "  var NB_LOAD_WARNING = {'data': {'text/html':\n",
       "     \"<div style='background-color: #fdd'>\\n\"+\n",
       "     \"<p>\\n\"+\n",
       "     \"BokehJS does not appear to have successfully loaded. If loading BokehJS from CDN, this \\n\"+\n",
       "     \"may be due to a slow or bad network connection. Possible fixes:\\n\"+\n",
       "     \"</p>\\n\"+\n",
       "     \"<ul>\\n\"+\n",
       "     \"<li>re-rerun `output_notebook()` to attempt to load from CDN again, or</li>\\n\"+\n",
       "     \"<li>use INLINE resources instead, as so:</li>\\n\"+\n",
       "     \"</ul>\\n\"+\n",
       "     \"<code>\\n\"+\n",
       "     \"from bokeh.resources import INLINE\\n\"+\n",
       "     \"output_notebook(resources=INLINE)\\n\"+\n",
       "     \"</code>\\n\"+\n",
       "     \"</div>\"}};\n",
       "\n",
       "  function display_loaded() {\n",
       "    var el = document.getElementById(\"1001\");\n",
       "    if (el != null) {\n",
       "      el.textContent = \"BokehJS is loading...\";\n",
       "    }\n",
       "    if (root.Bokeh !== undefined) {\n",
       "      if (el != null) {\n",
       "        el.textContent = \"BokehJS \" + root.Bokeh.version + \" successfully loaded.\";\n",
       "      }\n",
       "    } else if (Date.now() < root._bokeh_timeout) {\n",
       "      setTimeout(display_loaded, 100)\n",
       "    }\n",
       "  }\n",
       "\n",
       "\n",
       "  function run_callbacks() {\n",
       "    try {\n",
       "      root._bokeh_onload_callbacks.forEach(function(callback) { callback() });\n",
       "    }\n",
       "    finally {\n",
       "      delete root._bokeh_onload_callbacks\n",
       "    }\n",
       "    console.info(\"Bokeh: all callbacks have finished\");\n",
       "  }\n",
       "\n",
       "  function load_libs(js_urls, callback) {\n",
       "    root._bokeh_onload_callbacks.push(callback);\n",
       "    if (root._bokeh_is_loading > 0) {\n",
       "      console.log(\"Bokeh: BokehJS is being loaded, scheduling callback at\", now());\n",
       "      return null;\n",
       "    }\n",
       "    if (js_urls == null || js_urls.length === 0) {\n",
       "      run_callbacks();\n",
       "      return null;\n",
       "    }\n",
       "    console.log(\"Bokeh: BokehJS not loaded, scheduling load and callback at\", now());\n",
       "    root._bokeh_is_loading = js_urls.length;\n",
       "    for (var i = 0; i < js_urls.length; i++) {\n",
       "      var url = js_urls[i];\n",
       "      var s = document.createElement('script');\n",
       "      s.src = url;\n",
       "      s.async = false;\n",
       "      s.onreadystatechange = s.onload = function() {\n",
       "        root._bokeh_is_loading--;\n",
       "        if (root._bokeh_is_loading === 0) {\n",
       "          console.log(\"Bokeh: all BokehJS libraries loaded\");\n",
       "          run_callbacks()\n",
       "        }\n",
       "      };\n",
       "      s.onerror = function() {\n",
       "        console.warn(\"failed to load library \" + url);\n",
       "      };\n",
       "      console.log(\"Bokeh: injecting script tag for BokehJS library: \", url);\n",
       "      document.getElementsByTagName(\"head\")[0].appendChild(s);\n",
       "    }\n",
       "  };var element = document.getElementById(\"1001\");\n",
       "  if (element == null) {\n",
       "    console.log(\"Bokeh: ERROR: autoload.js configured with elementid '1001' but no matching script tag was found. \")\n",
       "    return false;\n",
       "  }\n",
       "\n",
       "  var js_urls = [\"https://cdn.pydata.org/bokeh/release/bokeh-1.0.0.min.js\", \"https://cdn.pydata.org/bokeh/release/bokeh-widgets-1.0.0.min.js\", \"https://cdn.pydata.org/bokeh/release/bokeh-tables-1.0.0.min.js\", \"https://cdn.pydata.org/bokeh/release/bokeh-gl-1.0.0.min.js\"];\n",
       "\n",
       "  var inline_js = [\n",
       "    function(Bokeh) {\n",
       "      Bokeh.set_log_level(\"info\");\n",
       "    },\n",
       "    \n",
       "    function(Bokeh) {\n",
       "      \n",
       "    },\n",
       "    function(Bokeh) {\n",
       "      console.log(\"Bokeh: injecting CSS: https://cdn.pydata.org/bokeh/release/bokeh-1.0.0.min.css\");\n",
       "      Bokeh.embed.inject_css(\"https://cdn.pydata.org/bokeh/release/bokeh-1.0.0.min.css\");\n",
       "      console.log(\"Bokeh: injecting CSS: https://cdn.pydata.org/bokeh/release/bokeh-widgets-1.0.0.min.css\");\n",
       "      Bokeh.embed.inject_css(\"https://cdn.pydata.org/bokeh/release/bokeh-widgets-1.0.0.min.css\");\n",
       "      console.log(\"Bokeh: injecting CSS: https://cdn.pydata.org/bokeh/release/bokeh-tables-1.0.0.min.css\");\n",
       "      Bokeh.embed.inject_css(\"https://cdn.pydata.org/bokeh/release/bokeh-tables-1.0.0.min.css\");\n",
       "    }\n",
       "  ];\n",
       "\n",
       "  function run_inline_js() {\n",
       "    \n",
       "    if ((root.Bokeh !== undefined) || (force === true)) {\n",
       "      for (var i = 0; i < inline_js.length; i++) {\n",
       "        inline_js[i].call(root, root.Bokeh);\n",
       "      }if (force === true) {\n",
       "        display_loaded();\n",
       "      }} else if (Date.now() < root._bokeh_timeout) {\n",
       "      setTimeout(run_inline_js, 100);\n",
       "    } else if (!root._bokeh_failed_load) {\n",
       "      console.log(\"Bokeh: BokehJS failed to load within specified timeout.\");\n",
       "      root._bokeh_failed_load = true;\n",
       "    } else if (force !== true) {\n",
       "      var cell = $(document.getElementById(\"1001\")).parents('.cell').data().cell;\n",
       "      cell.output_area.append_execute_result(NB_LOAD_WARNING)\n",
       "    }\n",
       "\n",
       "  }\n",
       "\n",
       "  if (root._bokeh_is_loading === 0) {\n",
       "    console.log(\"Bokeh: BokehJS loaded, going straight to plotting\");\n",
       "    run_inline_js();\n",
       "  } else {\n",
       "    load_libs(js_urls, function() {\n",
       "      console.log(\"Bokeh: BokehJS plotting callback run at\", now());\n",
       "      run_inline_js();\n",
       "    });\n",
       "  }\n",
       "}(window));"
      ],
      "application/vnd.bokehjs_load.v0+json": "\n(function(root) {\n  function now() {\n    return new Date();\n  }\n\n  var force = true;\n\n  if (typeof (root._bokeh_onload_callbacks) === \"undefined\" || force === true) {\n    root._bokeh_onload_callbacks = [];\n    root._bokeh_is_loading = undefined;\n  }\n\n  \n\n  \n  if (typeof (root._bokeh_timeout) === \"undefined\" || force === true) {\n    root._bokeh_timeout = Date.now() + 5000;\n    root._bokeh_failed_load = false;\n  }\n\n  var NB_LOAD_WARNING = {'data': {'text/html':\n     \"<div style='background-color: #fdd'>\\n\"+\n     \"<p>\\n\"+\n     \"BokehJS does not appear to have successfully loaded. If loading BokehJS from CDN, this \\n\"+\n     \"may be due to a slow or bad network connection. Possible fixes:\\n\"+\n     \"</p>\\n\"+\n     \"<ul>\\n\"+\n     \"<li>re-rerun `output_notebook()` to attempt to load from CDN again, or</li>\\n\"+\n     \"<li>use INLINE resources instead, as so:</li>\\n\"+\n     \"</ul>\\n\"+\n     \"<code>\\n\"+\n     \"from bokeh.resources import INLINE\\n\"+\n     \"output_notebook(resources=INLINE)\\n\"+\n     \"</code>\\n\"+\n     \"</div>\"}};\n\n  function display_loaded() {\n    var el = document.getElementById(\"1001\");\n    if (el != null) {\n      el.textContent = \"BokehJS is loading...\";\n    }\n    if (root.Bokeh !== undefined) {\n      if (el != null) {\n        el.textContent = \"BokehJS \" + root.Bokeh.version + \" successfully loaded.\";\n      }\n    } else if (Date.now() < root._bokeh_timeout) {\n      setTimeout(display_loaded, 100)\n    }\n  }\n\n\n  function run_callbacks() {\n    try {\n      root._bokeh_onload_callbacks.forEach(function(callback) { callback() });\n    }\n    finally {\n      delete root._bokeh_onload_callbacks\n    }\n    console.info(\"Bokeh: all callbacks have finished\");\n  }\n\n  function load_libs(js_urls, callback) {\n    root._bokeh_onload_callbacks.push(callback);\n    if (root._bokeh_is_loading > 0) {\n      console.log(\"Bokeh: BokehJS is being loaded, scheduling callback at\", now());\n      return null;\n    }\n    if (js_urls == null || js_urls.length === 0) {\n      run_callbacks();\n      return null;\n    }\n    console.log(\"Bokeh: BokehJS not loaded, scheduling load and callback at\", now());\n    root._bokeh_is_loading = js_urls.length;\n    for (var i = 0; i < js_urls.length; i++) {\n      var url = js_urls[i];\n      var s = document.createElement('script');\n      s.src = url;\n      s.async = false;\n      s.onreadystatechange = s.onload = function() {\n        root._bokeh_is_loading--;\n        if (root._bokeh_is_loading === 0) {\n          console.log(\"Bokeh: all BokehJS libraries loaded\");\n          run_callbacks()\n        }\n      };\n      s.onerror = function() {\n        console.warn(\"failed to load library \" + url);\n      };\n      console.log(\"Bokeh: injecting script tag for BokehJS library: \", url);\n      document.getElementsByTagName(\"head\")[0].appendChild(s);\n    }\n  };var element = document.getElementById(\"1001\");\n  if (element == null) {\n    console.log(\"Bokeh: ERROR: autoload.js configured with elementid '1001' but no matching script tag was found. \")\n    return false;\n  }\n\n  var js_urls = [\"https://cdn.pydata.org/bokeh/release/bokeh-1.0.0.min.js\", \"https://cdn.pydata.org/bokeh/release/bokeh-widgets-1.0.0.min.js\", \"https://cdn.pydata.org/bokeh/release/bokeh-tables-1.0.0.min.js\", \"https://cdn.pydata.org/bokeh/release/bokeh-gl-1.0.0.min.js\"];\n\n  var inline_js = [\n    function(Bokeh) {\n      Bokeh.set_log_level(\"info\");\n    },\n    \n    function(Bokeh) {\n      \n    },\n    function(Bokeh) {\n      console.log(\"Bokeh: injecting CSS: https://cdn.pydata.org/bokeh/release/bokeh-1.0.0.min.css\");\n      Bokeh.embed.inject_css(\"https://cdn.pydata.org/bokeh/release/bokeh-1.0.0.min.css\");\n      console.log(\"Bokeh: injecting CSS: https://cdn.pydata.org/bokeh/release/bokeh-widgets-1.0.0.min.css\");\n      Bokeh.embed.inject_css(\"https://cdn.pydata.org/bokeh/release/bokeh-widgets-1.0.0.min.css\");\n      console.log(\"Bokeh: injecting CSS: https://cdn.pydata.org/bokeh/release/bokeh-tables-1.0.0.min.css\");\n      Bokeh.embed.inject_css(\"https://cdn.pydata.org/bokeh/release/bokeh-tables-1.0.0.min.css\");\n    }\n  ];\n\n  function run_inline_js() {\n    \n    if ((root.Bokeh !== undefined) || (force === true)) {\n      for (var i = 0; i < inline_js.length; i++) {\n        inline_js[i].call(root, root.Bokeh);\n      }if (force === true) {\n        display_loaded();\n      }} else if (Date.now() < root._bokeh_timeout) {\n      setTimeout(run_inline_js, 100);\n    } else if (!root._bokeh_failed_load) {\n      console.log(\"Bokeh: BokehJS failed to load within specified timeout.\");\n      root._bokeh_failed_load = true;\n    } else if (force !== true) {\n      var cell = $(document.getElementById(\"1001\")).parents('.cell').data().cell;\n      cell.output_area.append_execute_result(NB_LOAD_WARNING)\n    }\n\n  }\n\n  if (root._bokeh_is_loading === 0) {\n    console.log(\"Bokeh: BokehJS loaded, going straight to plotting\");\n    run_inline_js();\n  } else {\n    load_libs(js_urls, function() {\n      console.log(\"Bokeh: BokehJS plotting callback run at\", now());\n      run_inline_js();\n    });\n  }\n}(window));"
     },
     "metadata": {},
     "output_type": "display_data"
    }
   ],
   "source": [
    "output_notebook()"
   ]
  },
  {
   "cell_type": "code",
   "execution_count": 3,
   "metadata": {},
   "outputs": [],
   "source": [
    "data_dir = 'data/'"
   ]
  },
  {
   "cell_type": "markdown",
   "metadata": {},
   "source": [
    "Data obtained from https://openflights.org/data.html  \n",
    "In the following process, data of 1988 and 2008 has been mainly used."
   ]
  },
  {
   "cell_type": "code",
   "execution_count": 4,
   "metadata": {},
   "outputs": [
    {
     "name": "stdout",
     "output_type": "stream",
     "text": [
      "<class 'pandas.core.frame.DataFrame'>\n",
      "RangeIndex: 100 entries, 0 to 99\n",
      "Data columns (total 29 columns):\n",
      "Year                 100 non-null int64\n",
      "Month                100 non-null int64\n",
      "DayofMonth           100 non-null int64\n",
      "DayOfWeek            100 non-null int64\n",
      "DepTime              97 non-null float64\n",
      "CRSDepTime           100 non-null int64\n",
      "ArrTime              97 non-null float64\n",
      "CRSArrTime           100 non-null int64\n",
      "UniqueCarrier        100 non-null object\n",
      "FlightNum            100 non-null int64\n",
      "TailNum              0 non-null float64\n",
      "ActualElapsedTime    97 non-null float64\n",
      "CRSElapsedTime       100 non-null int64\n",
      "AirTime              0 non-null float64\n",
      "ArrDelay             97 non-null float64\n",
      "DepDelay             97 non-null float64\n",
      "Origin               100 non-null object\n",
      "Dest                 100 non-null object\n",
      "Distance             100 non-null int64\n",
      "TaxiIn               0 non-null float64\n",
      "TaxiOut              0 non-null float64\n",
      "Cancelled            100 non-null int64\n",
      "CancellationCode     0 non-null float64\n",
      "Diverted             100 non-null int64\n",
      "CarrierDelay         0 non-null float64\n",
      "WeatherDelay         0 non-null float64\n",
      "NASDelay             0 non-null float64\n",
      "SecurityDelay        0 non-null float64\n",
      "LateAircraftDelay    0 non-null float64\n",
      "dtypes: float64(15), int64(11), object(3)\n",
      "memory usage: 22.7+ KB\n"
     ]
    }
   ],
   "source": [
    "df_test = pd.read_csv(data_dir+'1987.csv.bz2', chunksize=100)\n",
    "df = df_test.get_chunk()\n",
    "df.info()"
   ]
  },
  {
   "cell_type": "code",
   "execution_count": 5,
   "metadata": {},
   "outputs": [
    {
     "name": "stdout",
     "output_type": "stream",
     "text": [
      "1987 data hasbeen successfully loaded\n",
      "1988 data hasbeen successfully loaded\n",
      "1989 data hasbeen successfully loaded\n",
      "1990 data hasbeen successfully loaded\n",
      "1991 data hasbeen successfully loaded\n",
      "1992 data hasbeen successfully loaded\n",
      "1993 data hasbeen successfully loaded\n",
      "1994 data hasbeen successfully loaded\n",
      "1995 data hasbeen successfully loaded\n",
      "1996 data hasbeen successfully loaded\n",
      "1997 data hasbeen successfully loaded\n",
      "1998 data hasbeen successfully loaded\n",
      "1999 data hasbeen successfully loaded\n",
      "2000 data hasbeen successfully loaded\n",
      "2001 data hasbeen successfully loaded\n",
      "2002 data hasbeen successfully loaded\n"
     ]
    },
    {
     "name": "stderr",
     "output_type": "stream",
     "text": [
      "/home/jeong/.env/incubator/lib/python3.7/site-packages/IPython/core/interactiveshell.py:3018: DtypeWarning: Columns (22) have mixed types. Specify dtype option on import or set low_memory=False.\n",
      "  interactivity=interactivity, compiler=compiler, result=result)\n"
     ]
    },
    {
     "name": "stdout",
     "output_type": "stream",
     "text": [
      "2003 data hasbeen successfully loaded\n",
      "2004 data hasbeen successfully loaded\n",
      "2005 data hasbeen successfully loaded\n",
      "2006 data hasbeen successfully loaded\n",
      "2007 data hasbeen successfully loaded\n",
      "2008 data hasbeen successfully loaded\n"
     ]
    }
   ],
   "source": [
    "df = []\n",
    "for year in range(1987, 2009):\n",
    "    try:\n",
    "        df_ = pd.read_csv(data_dir+str(year)+'.csv.bz2', \n",
    "                          encoding='utf-8')\n",
    "    except:\n",
    "        df_ = pd.read_csv(data_dir+str(year)+'.csv.bz2', \n",
    "                          encoding='latin-1')\n",
    "    df_ = df_[df_.Diverted == 0].loc[:, ['Year', 'Origin', 'Dest']]\n",
    "    \n",
    "    df_0 = df_.loc[:, ['Origin', 'Dest']]\n",
    "    df_.loc[:, ['Origin']] = df_0.loc[:, ['Origin', 'Dest']].min(axis=1)\n",
    "    df_.loc[:, ['Dest']] = df_0.loc[:, ['Origin', 'Dest']].max(axis=1)\n",
    "    \n",
    "    df_ = df_.groupby(df_.columns.tolist()).size().reset_index().rename(columns={0:'COUNT'})\n",
    "    df.append(df_)\n",
    "    del(df_, df_0)\n",
    "    print(\"{} data hasbeen successfully loaded\".format(year))\n",
    "\n",
    "df_flight_net = pd.concat(df, ignore_index=True, sort=False)\n",
    "del(df)"
   ]
  },
  {
   "cell_type": "markdown",
   "metadata": {},
   "source": [
    "To avoid memory overflow, keep only essential columns of the data for network analysis."
   ]
  },
  {
   "cell_type": "code",
   "execution_count": 6,
   "metadata": {},
   "outputs": [],
   "source": [
    "df_airports = pd.read_csv(data_dir + 'airports.dat', delimiter=',', header=None, index_col=0)\n",
    "df_airports.columns = pd.Index(['NAME', 'CITY', 'COUNTRY', 'IATA', 'ICAO', 'LATITUDE',\n",
    "       'LONGITUDE', 'ALTITUDE', 'TIMEZONE', 'DST', 'TZ_DATABASE', 'TYPE',\n",
    "       'SOURCE'],\n",
    "      dtype='object')"
   ]
  },
  {
   "cell_type": "markdown",
   "metadata": {},
   "source": [
    "To read airport information, load another data file"
   ]
  },
  {
   "cell_type": "code",
   "execution_count": 7,
   "metadata": {},
   "outputs": [],
   "source": [
    "us_airports = df_airports[df_airports.COUNTRY == 'United States']\n",
    "condition1 = df_flight_net.Origin.isin(us_airports.IATA.values)\n",
    "condition2 = df_flight_net.Dest.isin(us_airports.IATA.values)\n",
    "df_flight_net = df_flight_net[condition1 & condition2]"
   ]
  },
  {
   "cell_type": "code",
   "execution_count": 8,
   "metadata": {},
   "outputs": [],
   "source": [
    "linked_port = list(set(np.hstack((df_flight_net.Origin.values, \n",
    "                                  df_flight_net.Dest.values))))\n",
    "port_dict = dict()\n",
    "for i in range(len(linked_port)):\n",
    "    port_dict[linked_port[i]] = i\n",
    "df_flight_net['Depart'] = df_flight_net.Origin.map(port_dict)\n",
    "df_flight_net['Arrive'] = df_flight_net.Dest.map(port_dict)"
   ]
  },
  {
   "cell_type": "markdown",
   "metadata": {},
   "source": [
    "For the convenience, give the identical number to every airport"
   ]
  },
  {
   "cell_type": "code",
   "execution_count": 9,
   "metadata": {},
   "outputs": [],
   "source": [
    "df_flight_net['origin_lon'] = [float(df_airports.LONGITUDE[\n",
    "    df_airports.IATA == x].values) for x in df_flight_net.Origin]\n",
    "df_flight_net['origin_lat'] = [float(df_airports.LATITUDE[\n",
    "    df_airports.IATA == x].values) for x in df_flight_net.Origin]\n",
    "df_flight_net['dest_lon'] = [float(df_airports.LONGITUDE[\n",
    "    df_airports.IATA == x].values) for x in df_flight_net.Dest]\n",
    "df_flight_net['dest_lat'] = [float(df_airports.LATITUDE[\n",
    "    df_airports.IATA == x].values) for x in df_flight_net.Dest]"
   ]
  },
  {
   "cell_type": "markdown",
   "metadata": {},
   "source": [
    "Read geographic position of airports from airport data"
   ]
  },
  {
   "cell_type": "code",
   "execution_count": 10,
   "metadata": {},
   "outputs": [],
   "source": [
    "def wgs84_to_web_mercator(df, lon=\"lon\", lat=\"lat\"):\n",
    "    \"\"\"Change Longitude and Latitude to web mercador number\"\"\"\n",
    "    k = 6378137\n",
    "    df[\"x\"] = df[lon] * (k * np.pi/180.0)\n",
    "    df[\"y\"] = np.log(np.tan((90 + df[lat]) * np.pi/360.0)) * k\n",
    "    return df"
   ]
  },
  {
   "cell_type": "code",
   "execution_count": 11,
   "metadata": {
    "scrolled": true
   },
   "outputs": [],
   "source": [
    "def line_df_to_xy(df):\n",
    "    \"\"\"From Dataframe, read the coordinates \n",
    "    and transform to position pair to build line segments\"\"\"\n",
    "    df_origin = df.loc[:, ['origin_lon', 'origin_lat']]\n",
    "    df_dest = df.loc[:, ['dest_lon', 'dest_lat']]\n",
    "\n",
    "    wgs84_to_web_mercator(df_origin, lon='origin_lon', lat='origin_lat')\n",
    "    wgs84_to_web_mercator(df_dest, lon='dest_lon', lat='dest_lat')\n",
    "\n",
    "    xs = list(zip(df_origin['x'].values, df_dest['x']))\n",
    "    ys = list(zip(df_origin['y'].values, df_dest['y']))\n",
    "    return xs, ys"
   ]
  },
  {
   "cell_type": "code",
   "execution_count": 58,
   "metadata": {},
   "outputs": [],
   "source": [
    "def background_map():\n",
    "    \"\"\"Load the US map\"\"\"\n",
    "    USA = x_range,y_range = ((-14084029,-7753304), (2698291, 6555972))\n",
    "    p = figure(tools='pan, wheel_zoom', x_range=x_range, y_range=y_range, \n",
    "               x_axis_type=\"mercator\", y_axis_type=\"mercator\")\n",
    "\n",
    "    url = 'http://a.basemaps.cartocdn.com/rastertiles/voyager/{Z}/{X}/{Y}.png'\n",
    "    attribution = \"Tiles by Carto, under CC BY 3.0. Data by OSM, under ODbL\"\n",
    "\n",
    "    p.add_tile(WMTSTileSource(url=url, attribution=attribution))\n",
    "\n",
    "    p = figure(tools='pan, wheel_zoom', x_range=x_range, y_range=y_range, \n",
    "               x_axis_type=\"mercator\", y_axis_type=\"mercator\", \n",
    "               x_axis_label='Longitude', y_axis_label='Latitude')\n",
    "\n",
    "    p.add_tile(WMTSTileSource(url=url, attribution=attribution))\n",
    "\n",
    "    return p"
   ]
  },
  {
   "cell_type": "code",
   "execution_count": 59,
   "metadata": {},
   "outputs": [],
   "source": [
    "def network_map(df, alpha=0.5):\n",
    "    \"\"\"add line segments to the figure, p\"\"\"\n",
    "    xs, ys = line_df_to_xy(df)\n",
    "    p = background_map()\n",
    "    p.multi_line(xs=xs, ys=ys, line_color='red', \n",
    "                 line_width=0.1, line_alpha=alpha)\n",
    "\n",
    "    return p"
   ]
  },
  {
   "cell_type": "code",
   "execution_count": null,
   "metadata": {},
   "outputs": [],
   "source": [
    "show(network_map(df_flight_net[df_flight_net.Year == 1988]))"
   ]
  },
  {
   "cell_type": "markdown",
   "metadata": {},
   "source": [
    "This is the flight network at 1988."
   ]
  },
  {
   "cell_type": "code",
   "execution_count": null,
   "metadata": {},
   "outputs": [],
   "source": [
    "show(network_map(df_flight_net[df_flight_net.Year == 2008]))"
   ]
  },
  {
   "cell_type": "markdown",
   "metadata": {},
   "source": [
    "Here is another figure. This the flight network map at 2008.  \n",
    "Connection is more dense than network at 1988."
   ]
  },
  {
   "cell_type": "code",
   "execution_count": 62,
   "metadata": {},
   "outputs": [],
   "source": [
    "def df_diff(df1, df2):\n",
    "    drop_index = []\n",
    "    for i in range(len(df1)):\n",
    "        for o, d in zip(df1.Origin.values, df2.Dest.values):\n",
    "            if (df1.Origin.values[i] == o) & (df1.Dest.values[i] == d):\n",
    "                drop_index.append(i)\n",
    "    df_ = df1.copy()\n",
    "    return df_.drop(df_.index.values[drop_index])"
   ]
  },
  {
   "cell_type": "code",
   "execution_count": 63,
   "metadata": {},
   "outputs": [],
   "source": [
    "condition1988 = (df_flight_net.Year == 1988)\n",
    "condition2008 = (df_flight_net.Year == 2008)\n",
    "df_1988 = df_flight_net[condition1988].drop(columns=['Year', 'COUNT'])\n",
    "df_2008 = df_flight_net[condition2008].drop(columns=['Year', 'COUNT'])\n",
    "\n",
    "df_diff1 = df_diff(df_2008, df_1988)\n",
    "df_diff2 = df_diff(df_1988, df_2008)"
   ]
  },
  {
   "cell_type": "code",
   "execution_count": null,
   "metadata": {},
   "outputs": [],
   "source": [
    "p = network_map(df_diff1, alpha=1)\n",
    "xs, ys = line_df_to_xy(df_diff2)\n",
    "p.multi_line(xs=xs, ys=ys, line_color='blue', \n",
    "             line_width=0.1, line_alpha=0.7)\n",
    "show(p)"
   ]
  },
  {
   "cell_type": "markdown",
   "metadata": {},
   "source": [
    "\"Red\" lines are flight connection of 2008 which didn't exist at 1988, while \"Blue\" lines are flight connection of 1988 had been deleted before 2008."
   ]
  },
  {
   "cell_type": "code",
   "execution_count": 65,
   "metadata": {},
   "outputs": [],
   "source": [
    "def list_to_matrix(dept, arr, size_mat, z_value=1, symmetric=True, cnt=True):\n",
    "    try:\n",
    "        len(z_value)\n",
    "    except:\n",
    "        z_value = np.full((len(dept)), z_value)\n",
    "\n",
    "    matrix = np.zeros((size_mat, size_mat))\n",
    "    \n",
    "    k=0\n",
    "    for i, j in zip(dept, arr):\n",
    "        if cnt:\n",
    "            matrix[i,j] += z_value[k]\n",
    "        else:\n",
    "            matrix[i,j] = z_value[k]\n",
    "        k += 1\n",
    "    if symmetric:\n",
    "        matrix = matrix + matrix.transpose()\n",
    "    return matrix"
   ]
  },
  {
   "cell_type": "code",
   "execution_count": 20,
   "metadata": {},
   "outputs": [],
   "source": [
    "edge_matrix_count = list_to_matrix(df_flight_net.Depart.values, \n",
    "                                   df_flight_net.Arrive.values, \n",
    "                                   len(port_dict), \n",
    "                                   z_value=df_flight_net.COUNT.values)"
   ]
  },
  {
   "cell_type": "code",
   "execution_count": 21,
   "metadata": {},
   "outputs": [],
   "source": [
    "edge_matrix = list_to_matrix(df_flight_net.Depart.values, \n",
    "                                   df_flight_net.Arrive.values, \n",
    "                                   len(port_dict),\n",
    "                                   z_value=1)"
   ]
  },
  {
   "cell_type": "code",
   "execution_count": 22,
   "metadata": {},
   "outputs": [
    {
     "name": "stdout",
     "output_type": "stream",
     "text": [
      "Total number of airports in the data = 335\n"
     ]
    }
   ],
   "source": [
    "print(\"Total number of airports in the data = {}\".format(len(port_dict)))"
   ]
  },
  {
   "cell_type": "code",
   "execution_count": 23,
   "metadata": {},
   "outputs": [
    {
     "name": "stdout",
     "output_type": "stream",
     "text": [
      "Number of every kind of cennection = 8288\n"
     ]
    }
   ],
   "source": [
    "print(\"Number of every kind of cennection = {}\".format(np.count_nonzero(edge_matrix)))"
   ]
  },
  {
   "cell_type": "code",
   "execution_count": 24,
   "metadata": {},
   "outputs": [
    {
     "name": "stdout",
     "output_type": "stream",
     "text": [
      "Total number of flights in the US from 1987 to 2009 = 244232402.0\n"
     ]
    }
   ],
   "source": [
    "print(\"Total number of flights in the US from 1987 to 2009 = {}\".format(edge_matrix_count.sum()))"
   ]
  },
  {
   "cell_type": "code",
   "execution_count": 25,
   "metadata": {
    "scrolled": false
   },
   "outputs": [
    {
     "data": {
      "image/png": "[encoded data removed]",
      "text/plain": [
       "<Figure size 864x864 with 2 Axes>"
      ]
     },
     "metadata": {
      "needs_background": "light"
     },
     "output_type": "display_data"
    }
   ],
   "source": [
    "plt.figure(figsize=(12,12))\n",
    "plt.imshow(np.log(edge_matrix+1) , cmap='inferno')\n",
    "plt.colorbar()\n",
    "plt.show()"
   ]
  },
  {
   "cell_type": "markdown",
   "metadata": {},
   "source": [
    "This figure is the connection map from 1987 to 2009.  \n",
    "x-axis and y-axis are airport identification numbers. Every pixel denotes a flight route from 'x' airport to 'y' airport. And the brightness tells us how many years the connection kept. For example, in the position (x, y) = (50, 200), if the pixel is black colored, it means there are no flight between 'airport 50' and 'airport 200' for the whole time form 1987 to 2009. Some bright horizontal or vertical lines mean big hub airports. "
   ]
  },
  {
   "cell_type": "code",
   "execution_count": 26,
   "metadata": {},
   "outputs": [],
   "source": [
    "def route_sort(network):\n",
    "    order = np.argsort(np.sum(network, axis=0))\n",
    "\n",
    "    network = network[:, order]\n",
    "    network = network[order, :]\n",
    "    return network"
   ]
  },
  {
   "cell_type": "code",
   "execution_count": 27,
   "metadata": {
    "scrolled": false
   },
   "outputs": [
    {
     "data": {
      "image/png": "[encoded data removed]",
      "text/plain": [
       "<Figure size 864x864 with 2 Axes>"
      ]
     },
     "metadata": {
      "needs_background": "light"
     },
     "output_type": "display_data"
    }
   ],
   "source": [
    "plt.figure(figsize=(12,12))\n",
    "plt.imshow(np.log(route_sort(edge_matrix) +1), cmap='inferno')\n",
    "plt.colorbar()\n",
    "plt.show()"
   ]
  },
  {
   "cell_type": "markdown",
   "metadata": {},
   "source": [
    "Sorted by the number of flight route of each airport. One can see the distribution of the connections is extremely focused on a few airports. This is typical behaviour of complex network."
   ]
  },
  {
   "cell_type": "code",
   "execution_count": 28,
   "metadata": {
    "scrolled": false
   },
   "outputs": [
    {
     "data": {
      "image/png": "[encoded data removed]",
      "text/plain": [
       "<Figure size 864x864 with 2 Axes>"
      ]
     },
     "metadata": {
      "needs_background": "light"
     },
     "output_type": "display_data"
    }
   ],
   "source": [
    "plt.figure(figsize=(12,12))\n",
    "plt.imshow(np.log(np.sort(np.sort(edge_matrix, axis=0)) +1), cmap='inferno')\n",
    "plt.colorbar()\n",
    "plt.show()"
   ]
  },
  {
   "cell_type": "code",
   "execution_count": 30,
   "metadata": {},
   "outputs": [],
   "source": [
    "def net_to_list(net):\n",
    "    start_pt = []\n",
    "    end_pt = []\n",
    "    for i in range(len(net)):\n",
    "        for j in range(len(net)):\n",
    "            if net[i,j] >0 :\n",
    "                start_pt.append(i)\n",
    "                end_pt.append(j)\n",
    "    return start_pt, end_pt"
   ]
  },
  {
   "cell_type": "code",
   "execution_count": 31,
   "metadata": {},
   "outputs": [],
   "source": [
    "def chord(n_node, nodes_start, nodes_end, alpha=0.03, \n",
    "          title=\"Non-riboon Chord diagram\"):\n",
    "\n",
    "    plot = figure(title=title, x_range=(-1.1,1.1), y_range=(-1.1,1.1),\n",
    "                  tools=\"\", toolbar_location=None)\n",
    "\n",
    "    graph = GraphRenderer()\n",
    "\n",
    "    graph.node_renderer.data_source.add(range(n_node), 'index')\n",
    "    #graph.node_renderer.glyph = Oval(height=0.1, width=0.2)\n",
    "\n",
    "    graph.edge_renderer.data_source.data = dict(start=nodes_start, \n",
    "                                                end=nodes_end)\n",
    "    graph.edge_renderer.glyph = MultiLine(line_color=\"#ff0000\", \n",
    "                                          line_alpha=alpha, \n",
    "                                          line_width=1)\n",
    "\n",
    "    ### start of layout code\n",
    "    circ = [i*2*math.pi / n_node for i in range(n_node)]\n",
    "    x = [math.cos(i) for i in circ]\n",
    "    y = [math.sin(i) for i in circ]\n",
    "    graph_layout = dict(zip(range(n_node), zip(x, y)))\n",
    "    graph.layout_provider = StaticLayoutProvider(graph_layout=graph_layout)\n",
    "\n",
    "    ### Draw quadratic bezier paths\n",
    "    def bezier(start, end, control, steps):\n",
    "        return [(1-s)**2*start + 2*(1-s)*s*control + \n",
    "                s**2*end for s in steps]\n",
    "\n",
    "    xs, ys = [], []\n",
    "    for i, j in zip(nodes_start, nodes_end):\n",
    "        sx, sy = graph_layout[i]\n",
    "        steps = [i/100. for i in range(100)]\n",
    "\n",
    "        ex, ey = graph_layout[j]\n",
    "        xs.append(bezier(sx, ex, 0, steps))\n",
    "        ys.append(bezier(sy, ey, 0, steps))\n",
    "\n",
    "    graph.edge_renderer.data_source.data['xs'] = xs\n",
    "    graph.edge_renderer.data_source.data['ys'] = ys\n",
    "\n",
    "    plot.renderers.append(graph)\n",
    "\n",
    "    return plot"
   ]
  },
  {
   "cell_type": "code",
   "execution_count": null,
   "metadata": {},
   "outputs": [],
   "source": [
    "start_point, end_point = net_to_list(edge_matrix)\n",
    "show(chord(len(port_dict), start_point, end_point, title='Airline connection'))"
   ]
  },
  {
   "cell_type": "markdown",
   "metadata": {},
   "source": [
    "Every node denotes an airport. It is hard to see any property."
   ]
  },
  {
   "cell_type": "code",
   "execution_count": null,
   "metadata": {},
   "outputs": [],
   "source": [
    "start_point, end_point = net_to_list(route_sort(edge_matrix))\n",
    "show(chord(len(port_dict), start_point, end_point, title='Sorted Airline connection'))"
   ]
  },
  {
   "cell_type": "markdown",
   "metadata": {},
   "source": [
    "Sorted graph. It looks like there is certain drag force to the hub airport direction. "
   ]
  }
 ],
 "metadata": {
  "kernelspec": {
   "display_name": "incubator",
   "language": "python",
   "name": "incubator"
  },
  "language_info": {
   "codemirror_mode": {
    "name": "ipython",
    "version": 3
   },
   "file_extension": ".py",
   "mimetype": "text/x-python",
   "name": "python",
   "nbconvert_exporter": "python",
   "pygments_lexer": "ipython3",
   "version": "3.7.0"
  }
 },
 "nbformat": 4,
 "nbformat_minor": 2
}
